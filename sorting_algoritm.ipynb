{
 "cells": [
  {
   "cell_type": "markdown",
   "metadata": {},
   "source": [
    "'''<br>\n",
    "@Author: Rahul<br> \n",
    "@Date: 2024-08-24<br>\n",
    "@Last Modified by: Rahul <br>\n",
    "@Last Modified time: 2024-08-24<br>\n",
    "@Title: Python program to demonstrate sorting algorithm.<br>\n",
    "'''"
   ]
  },
  {
   "cell_type": "code",
   "execution_count": 3,
   "metadata": {},
   "outputs": [],
   "source": [
    "import random"
   ]
  },
  {
   "cell_type": "markdown",
   "metadata": {},
   "source": [
    "                                                            BUBBLE SORT"
   ]
  },
  {
   "cell_type": "code",
   "execution_count": 4,
   "metadata": {},
   "outputs": [
    {
     "name": "stdout",
     "output_type": "stream",
     "text": [
      "Sorted array is:\n",
      "[1, 2, 10, 23]\n"
     ]
    }
   ],
   "source": [
    "# Time Complexity:\n",
    "#   Best Case: O(n)  (when the array is already sorted)\n",
    "#   Average Case: O(n^2)\n",
    "#   Worst Case: O(n^2)\n",
    "\n",
    "#  Space Complexity:\n",
    "#   Auxiliary Space: O(1)\n",
    "\n",
    "def bubbleSort(arr):\n",
    "    \n",
    "    '''\n",
    "    Description:\n",
    "        This function performs bubble sort on the given list of numbers.\n",
    "\n",
    "    Parameters:\n",
    "        arr (list): A list of integers or floats to be sorted.\n",
    "\n",
    "    Return:\n",
    "        None: The function sorts the array in place.\n",
    "    '''\n",
    "    \n",
    "    n = len(arr)\n",
    "    for i in range(n):\n",
    "        for j in range(0, n - i - 1):\n",
    "            if arr[j] > arr[j + 1]:\n",
    "                arr[j], arr[j + 1] = arr[j + 1], arr[j]\n",
    "                \n",
    "def main():\n",
    "    \n",
    "    arr = [23, 1, 10, 2]\n",
    "    \n",
    "    bubbleSort(arr)\n",
    "\n",
    "    print(\"Sorted array is:\")\n",
    "    print(arr)\n",
    "    \n",
    "\n",
    "if __name__ == \"__main__\":\n",
    "    main()\n"
   ]
  },
  {
   "cell_type": "markdown",
   "metadata": {},
   "source": [
    "                                                            INSERTION SORT"
   ]
  },
  {
   "cell_type": "code",
   "execution_count": 5,
   "metadata": {},
   "outputs": [
    {
     "name": "stdout",
     "output_type": "stream",
     "text": [
      "The unsorted list is: [23, 1, 10, 2]\n",
      "The sorted new list is: [1, 2, 10, 23]\n"
     ]
    }
   ],
   "source": [
    "# Time Complexity:\n",
    "#     Best Case: O(n)\n",
    "#     Average Case: O(n^2)\n",
    "#     Worst Case: O(n^2)\n",
    "\n",
    "# Space Complexity:\n",
    "#     O(1): The sorting is done in place, so no additional space is required beyond the input array.\n",
    "\n",
    "def insertionSort(array, size):\n",
    "    \n",
    "    '''\n",
    "    Description:\n",
    "        This function performs the insertion sort algorithm to sort the given array in ascending order.\n",
    "\n",
    "    Parameters:\n",
    "        array (list): A list of integers or floats to be sorted.\n",
    "        size (int): The number of elements in the list.\n",
    "\n",
    "    Return:\n",
    "        None: The function sorts the array in place.\n",
    "    '''\n",
    "    \n",
    "    for i in range(1, size):\n",
    "        key = array[i]\n",
    "        j = i - 1\n",
    "        \n",
    "        while j >= 0 and array[j] > key:\n",
    "            array[j + 1] = array[j]\n",
    "            j -= 1\n",
    "        \n",
    "        array[j + 1] = key\n",
    "\n",
    "def main():\n",
    "    data = [7, 2, 1, 6]\n",
    "    size = len(data)\n",
    "    insertionSort(data, size)\n",
    "    \n",
    "    print('Sorted Array in Ascending Order is:')\n",
    "    print(data)\n",
    "\n",
    "if __name__ == \"__main__\":\n",
    "    main()\n"
   ]
  },
  {
   "cell_type": "markdown",
   "metadata": {},
   "source": [
    "                                                        SELECTION SORT"
   ]
  },
  {
   "cell_type": "code",
   "execution_count": 6,
   "metadata": {},
   "outputs": [
    {
     "name": "stdout",
     "output_type": "stream",
     "text": [
      "Sorted Array in Ascending Order is :\n",
      "[1, 2, 6, 7]\n"
     ]
    }
   ],
   "source": [
    "# Time Complexity:\n",
    "    #  Best Case: O(n^2)\n",
    "    #  Average Case: O(n^2)\n",
    "    #  Worst Case: O(n^2)\n",
    "\n",
    "# Space Complexity:\n",
    "    #  O(1): The sorting is done in place, so no additional space is required beyond the input array.\n",
    "\n",
    "def selectionSort(array, size):\n",
    "    \n",
    "    '''\n",
    "    Description:\n",
    "        This function performs selection sort on the given list of numbers.\n",
    "\n",
    "    Parameters:\n",
    "        array (list): A list of integers or floats to be sorted.\n",
    "        size (int): The number of elements in the list.\n",
    "\n",
    "    Return:\n",
    "        None: The function sorts the array in place.\n",
    "    '''\n",
    "    \n",
    "    for s in range(size):\n",
    "        min_idx = s\n",
    "        \n",
    "        for i in range(s + 1, size):\n",
    "            if array[i] < array[min_idx]:\n",
    "                min_idx = i\n",
    "\n",
    "        (array[s], array[min_idx]) = (array[min_idx], array[s])\n",
    "\n",
    "def main():\n",
    "    \n",
    "    data = [7, 2, 1, 6]\n",
    "    size = len(data)\n",
    "    selectionSort(data, size)\n",
    "    \n",
    "    print('Sorted Array in Ascending Order is:')\n",
    "    print(data)\n",
    "\n",
    "if __name__ == \"__main__\":\n",
    "    main()\n"
   ]
  },
  {
   "cell_type": "markdown",
   "metadata": {},
   "source": [
    "                                                            MERGE SORT"
   ]
  },
  {
   "cell_type": "code",
   "execution_count": 5,
   "metadata": {},
   "outputs": [
    {
     "name": "stdout",
     "output_type": "stream",
     "text": [
      "Original array: [12, 11, 13, 5, 6, 7]\n",
      "Sorted array: [5, 6, 7, 11, 12, 13]\n"
     ]
    }
   ],
   "source": [
    "# Time Complexity:\n",
    "\n",
    "#         Best and Average Case: O(n log n)\n",
    "#         Worst Case: O(n log n)\n",
    "\n",
    "#Space Complexity:\n",
    "\n",
    "#         Best and Average Case: O(n)\n",
    "#         Worst Case: O(n)\n",
    "\n",
    "def merge_sort(arr):\n",
    "    \n",
    "    '''\n",
    "    Description:\n",
    "        This function performs merge sort on the given list of numbers.\n",
    "\n",
    "    Parameters:\n",
    "        arr (list): A list of integers or floats to be sorted.\n",
    "\n",
    "    Return:\n",
    "        None: The function sorts the array in place.\n",
    "    '''\n",
    "    \n",
    "    if len(arr) > 1:\n",
    "        \n",
    "        mid = len(arr) // 2\n",
    "\n",
    "        left_half = arr[:mid]\n",
    "        right_half = arr[mid:]\n",
    "\n",
    "        merge_sort(left_half)\n",
    "        merge_sort(right_half)\n",
    "\n",
    "        i = j = k = 0\n",
    "\n",
    "        while i < len(left_half) and j < len(right_half):\n",
    "            \n",
    "            if left_half[i] < right_half[j]:\n",
    "                arr[k] = left_half[i]\n",
    "                i += 1\n",
    "                \n",
    "            else:\n",
    "                arr[k] = right_half[j]\n",
    "                j += 1\n",
    "            k += 1\n",
    "\n",
    "        while i < len(left_half):\n",
    "            arr[k] = left_half[i]\n",
    "            i += 1\n",
    "            k += 1\n",
    "\n",
    "        while j < len(right_half):\n",
    "            arr[k] = right_half[j]\n",
    "            j += 1\n",
    "            k += 1\n",
    "\n",
    "def main():\n",
    "    \n",
    "    arr = [12, 11, 13, 5, 6, 7]\n",
    "    print(\"Original array:\", arr)\n",
    "    merge_sort(arr)\n",
    "    print(\"Sorted array:\", arr)\n",
    "\n",
    "if __name__ == \"__main__\":\n",
    "    main()\n"
   ]
  },
  {
   "cell_type": "markdown",
   "metadata": {},
   "source": [
    "                                                            QUICK SORT"
   ]
  },
  {
   "cell_type": "code",
   "execution_count": 14,
   "metadata": {},
   "outputs": [
    {
     "name": "stdout",
     "output_type": "stream",
     "text": [
      "Original array: [10, 7, 8, 9, 1, 5]\n",
      "Sorted array: [1, 5, 7, 8, 9, 10]\n"
     ]
    }
   ],
   "source": [
    "# Time Complexity:\n",
    "\n",
    "    # Best and Average Case: O(n log n)\n",
    "    # Worst Case: O(n^2)\n",
    "    \n",
    "# Space Complexity:\n",
    "\n",
    "    # Best and Average Case: O(log n)\n",
    "    # Worst Case: O(n)\n",
    "\n",
    "def quick_sort(arr):\n",
    "    \n",
    "    '''\n",
    "    Description:\n",
    "        This function performs quick sort on the given list of numbers.\n",
    "\n",
    "    Parameters:\n",
    "        arr (list): A list of integers or floats to be sorted.\n",
    "\n",
    "    Return:\n",
    "        list: A new list containing the sorted elements in ascending order.\n",
    "    '''\n",
    "    \n",
    "    if len(arr) <= 1:\n",
    "        return arr\n",
    "\n",
    "    pivot = random.choice(arr)\n",
    "    \n",
    "    left = [i for i in arr if i < pivot]\n",
    "    right = [i for i in arr if i > pivot]\n",
    "    middle = [i for i in arr if i == pivot]\n",
    "    \n",
    "    return quick_sort(left) + middle + quick_sort(right)\n",
    "\n",
    "def main():\n",
    "    \n",
    "    arr = [10, 7, 8, 9, 1, 5]\n",
    "    \n",
    "    print(\"Original array:\", arr)\n",
    "    print(\"Sorted array:\", quick_sort(arr))\n",
    "\n",
    "if __name__ == \"__main__\":\n",
    "    main()\n"
   ]
  }
 ],
 "metadata": {
  "kernelspec": {
   "display_name": "Python 3",
   "language": "python",
   "name": "python3"
  },
  "language_info": {
   "codemirror_mode": {
    "name": "ipython",
    "version": 3
   },
   "file_extension": ".py",
   "mimetype": "text/x-python",
   "name": "python",
   "nbconvert_exporter": "python",
   "pygments_lexer": "ipython3",
   "version": "3.12.4"
  }
 },
 "nbformat": 4,
 "nbformat_minor": 2
}
