{
 "cells": [
  {
   "cell_type": "markdown",
   "metadata": {},
   "source": [
    "\n",
    "'''<br>\n",
    "@Author: Rahul<br> \n",
    "@Date: 2024-08-23<br>\n",
    "@Last Modified by: Rahul <br>\n",
    "@Last Modified time: 2024-08-23<br>\n",
    "@Title: Python program to demonstrate searching algorithm.<br>\n",
    "'''"
   ]
  },
  {
   "cell_type": "code",
   "execution_count": 1,
   "metadata": {},
   "outputs": [],
   "source": [
    "from collections import deque"
   ]
  },
  {
   "cell_type": "markdown",
   "metadata": {},
   "source": [
    "                                                        ITERATIVE BINARY SEARCH"
   ]
  },
  {
   "cell_type": "code",
   "execution_count": 8,
   "metadata": {},
   "outputs": [
    {
     "name": "stdout",
     "output_type": "stream",
     "text": [
      "Element 22 is present in the list [2, 4, 6, 7, 10, 17, 19, 22, 23, 24]\n"
     ]
    }
   ],
   "source": [
    "# Time Complexity:\n",
    "#   O(log2 n): The search range is halved with each iteration.\n",
    "\n",
    "# Space Complexity:\n",
    "#   O(1): The algorithm uses a constant amount of extra space.\n",
    "\n",
    "def iterative_binary_search(left, right, element, data):\n",
    "    \n",
    "    '''\n",
    "    Description:\n",
    "        This function performs an iterative binary search to find a specific element in a sorted list.\n",
    "\n",
    "    Parameters:\n",
    "        left (int): The starting index of the search range.\n",
    "        right (int): The ending index of the search range.\n",
    "        element: The value to search for in the list.\n",
    "        data (list): A sorted list of integers or floats to be searched.\n",
    "\n",
    "    Return:\n",
    "        bool: Returns True if the element is found in the list, otherwise returns False.\n",
    "    '''\n",
    "    \n",
    "    while left <= right:\n",
    "        mid = (left + right) // 2\n",
    "        if element == data[mid]:\n",
    "            return True\n",
    "        elif element > data[mid]:\n",
    "            left = mid + 1\n",
    "        else:\n",
    "            right = mid - 1\n",
    "    \n",
    "    return False\n",
    "\n",
    "def main():\n",
    "    \n",
    "    li1 = [2, 4, 6, 7, 10, 17, 19, 22, 23, 24]\n",
    "    left, right, element = 0, len(li1) - 1, 22\n",
    "    result = iterative_binary_search(left, right, element, li1)\n",
    "    \n",
    "    if result:\n",
    "        print(f'Element {element} is present in the list {li1}')\n",
    "    else:\n",
    "        print(\"Element is not present in the list\")\n",
    "\n",
    "if __name__ == \"__main__\":\n",
    "    main()\n"
   ]
  },
  {
   "cell_type": "markdown",
   "metadata": {},
   "source": [
    "                                                RECURSIVE CALL BINARY SEARCH "
   ]
  },
  {
   "cell_type": "code",
   "execution_count": 7,
   "metadata": {},
   "outputs": [
    {
     "name": "stdout",
     "output_type": "stream",
     "text": [
      "Element is not present in the list\n"
     ]
    }
   ],
   "source": [
    "# Time Complexity:\n",
    "#   O(log2 n): The search space is halved with each recursive call.\n",
    "\n",
    "# Space Complexity:\n",
    "#   O(log n): Due to the recursion stack, which can go as deep as the height of the binary search tree.\n",
    "\n",
    "def recursive_binary_search(left, right, element, data):\n",
    "    \n",
    "    '''\n",
    "    Description:\n",
    "        This function performs a recursive binary search to find a specific element in a sorted list.\n",
    "\n",
    "    Parameters:\n",
    "        left (int): The starting index of the search range.\n",
    "        right (int): The ending index of the search range.\n",
    "        element: The value to search for in the list.\n",
    "        data (list): A sorted list of integers or floats to be searched.\n",
    "\n",
    "    Return:\n",
    "        bool: Returns True if the element is found in the list, otherwise returns False.\n",
    "    '''\n",
    "    \n",
    "    if left > right:\n",
    "        return False\n",
    "\n",
    "    mid = (left + right) // 2\n",
    "    if element == data[mid]:\n",
    "        return True\n",
    "    elif element > data[mid]:\n",
    "        return recursive_binary_search(left=mid+1, right=right, element=element, data=data)\n",
    "    else:\n",
    "        return recursive_binary_search(left=left, right=mid-1, element=element, data=data)\n",
    "\n",
    "def main():\n",
    "    \n",
    "    li1 = [2, 4, 6, 7, 10, 17, 19, 22, 23, 24]\n",
    "    left, right, element = 0, len(li1) - 1, 52\n",
    "    result = recursive_binary_search(left, right, element, li1)\n",
    "    \n",
    "    if result:\n",
    "        print(f'Element {element} is present in the list {li1}')\n",
    "    else:\n",
    "        print(\"Element is not present in the list\")\n",
    "\n",
    "if __name__ == \"__main__\":\n",
    "    main()\n"
   ]
  },
  {
   "cell_type": "markdown",
   "metadata": {},
   "source": [
    "                                                BREADTH FIRST SEARCH"
   ]
  },
  {
   "cell_type": "code",
   "execution_count": 33,
   "metadata": {},
   "outputs": [
    {
     "name": "stdout",
     "output_type": "stream",
     "text": [
      "BFS traversal starting from node 'H':\n",
      "deque(['H'])\n",
      "H B C A G F D E "
     ]
    }
   ],
   "source": [
    "\n",
    "# Time Complexity:\n",
    "#    O(V + E): Where V is the number of vertices and E is the number of edges in the graph.\n",
    "\n",
    "# Space Complexity:\n",
    "#    O(V): The space complexity is due to the queue and the visited set, both of which store nodes.\n",
    "\n",
    "def bfs(graph, start):\n",
    "    \n",
    "    '''\n",
    "    Description:\n",
    "        This function performs a Breadth-First Search (BFS) traversal on a graph starting from a given node.\n",
    "\n",
    "    Parameters:\n",
    "        graph (dict): A dictionary where keys are nodes and values are lists of neighboring nodes.\n",
    "        start: The node to start the BFS traversal from.\n",
    "\n",
    "    Return:\n",
    "        None: The function prints the nodes in the order they are visited.\n",
    "    '''\n",
    "    \n",
    "    queue = deque([start])\n",
    "    visited = set([start])\n",
    "        \n",
    "    while queue:\n",
    "        node = queue.popleft()\n",
    "        print(node, end=\" \")\n",
    "       \n",
    "        for neighbor in graph[node]:\n",
    "            if neighbor not in visited:\n",
    "                visited.add(neighbor)\n",
    "                queue.append(neighbor)\n",
    "                \n",
    "def main():\n",
    "\n",
    "    graph = {\n",
    "        'A': ['E', 'B', 'G'],\n",
    "        'B': ['A', 'G', 'F','C','H'], \n",
    "        'C': ['B','H','D'],\n",
    "        'D': ['C', 'E'],\n",
    "        'E': ['A','D', 'F'],\n",
    "        'F': ['E','B'],\n",
    "        'G': ['A', 'B'],\n",
    "        'H': ['B', 'C']\n",
    "    }\n",
    "    \n",
    "    print(\"BFS traversal starting from node 'H':\")\n",
    "    bfs(graph, 'H')\n",
    "\n",
    "if __name__ == \"__main__\":\n",
    "    main()\n"
   ]
  },
  {
   "cell_type": "markdown",
   "metadata": {},
   "source": [
    "                                                            DEPTH FIRST SEARCH"
   ]
  },
  {
   "cell_type": "code",
   "execution_count": 34,
   "metadata": {},
   "outputs": [
    {
     "name": "stdout",
     "output_type": "stream",
     "text": [
      "DFS traversal starting from node 'A':\n",
      "A E D C B G F H "
     ]
    }
   ],
   "source": [
    "#  Time Complexity:\n",
    "#      O(V + E): Where V is the number of vertices and E is the number of edges in the graph.\n",
    "\n",
    "#  Space Complexity:\n",
    "#      O(V): The space complexity is due to the recursion stack and the visited set.\n",
    "\n",
    "def dfs_recursive(graph, node, visited=None):\n",
    "    \n",
    "    '''\n",
    "    Description:\n",
    "        This function performs a Depth-First Search (DFS) traversal on a graph using recursion.\n",
    "\n",
    "    Parameters:\n",
    "        graph (dict): A dictionary where keys are nodes and values are lists of neighboring nodes.\n",
    "        node: The current node to start the DFS traversal from.\n",
    "        visited (set, optional): A set to keep track of visited nodes. It is used internally and should not be provided by the user.\n",
    "\n",
    "    Return:\n",
    "        None: The function prints the nodes in the order they are visited.\n",
    "    '''\n",
    "    \n",
    "    if visited is None:\n",
    "        visited = set()\n",
    "\n",
    "    visited.add(node)\n",
    "    print(node, end=\" \")\n",
    "\n",
    "    for neighbor in graph[node]:\n",
    "        if neighbor not in visited:\n",
    "            dfs_recursive(graph, neighbor, visited)\n",
    "\n",
    "def main():\n",
    "    \n",
    "    graph = {\n",
    "        'A': ['E', 'B', 'G'],\n",
    "        'B': ['A', 'G', 'F','C','H'], \n",
    "        'C': ['B','H','D'],\n",
    "        'D': ['C', 'E'],\n",
    "        'E': ['A','D', 'F'],\n",
    "        'F': ['E','B'],\n",
    "        'G': ['A', 'B'],\n",
    "        'H': ['B', 'C']\n",
    "    }\n",
    "\n",
    "    print(\"DFS traversal starting from node 'A':\")\n",
    "    dfs_recursive(graph, 'A')\n",
    "\n",
    "if __name__ == \"__main__\":\n",
    "    main()"
   ]
  }
 ],
 "metadata": {
  "kernelspec": {
   "display_name": "Python 3",
   "language": "python",
   "name": "python3"
  },
  "language_info": {
   "codemirror_mode": {
    "name": "ipython",
    "version": 3
   },
   "file_extension": ".py",
   "mimetype": "text/x-python",
   "name": "python",
   "nbconvert_exporter": "python",
   "pygments_lexer": "ipython3",
   "version": "3.12.4"
  }
 },
 "nbformat": 4,
 "nbformat_minor": 2
}
